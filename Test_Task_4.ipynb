{
 "cells": [
  {
   "cell_type": "code",
   "execution_count": 3,
   "id": "ae70a7a4",
   "metadata": {},
   "outputs": [],
   "source": [
    "from AI_powered_Customer_Support import Chatbot,extract_user_details,load_user_details\n",
    "from langchain_core.messages import HumanMessage\n",
    "import json"
   ]
  },
  {
   "cell_type": "code",
   "execution_count": 4,
   "id": "b198013d",
   "metadata": {},
   "outputs": [],
   "source": [
    "CONFIG = {'configurable': {'thread_id': 'terminal_chat_thread'}}"
   ]
  },
  {
   "cell_type": "code",
   "execution_count": 7,
   "id": "bbf3f5dd",
   "metadata": {},
   "outputs": [
    {
     "name": "stdout",
     "output_type": "stream",
     "text": [
      "You : Hii,I am shiv. My credit card is not not woking suddenly, credit card number is \"sidfn34hb\" , my income is 40000\n",
      "\n",
      "Bot : I will transfer you to a human agent.\n",
      " Please wait...\n",
      "Bot : Hi Shiv, I understand your credit card (sidfn34hb) is not working. Your income is $40,000. Please call our support line at [Support Phone Number] for immediate assistance with this high-urgency issue.\n",
      "\n",
      "\n",
      "\n",
      "You : details\n",
      "\n",
      "\n",
      "📋 Your Stored Details:\n",
      "   name: shiv\n",
      "   credit_card_number: sidfn34hb\n",
      "   income: 40000\n",
      "   current_issue: credit_card\n",
      "   urgency: high\n",
      "\n",
      "You : i called the helpline ,but isnt responding. My income was 30000.\n",
      "\n",
      "Bot : I will transfer you to a human agent.\n",
      " Please wait...\n",
      "Bot : Hi Shiv, I've noted your income is $30,000. I apologize the helpline isn't responding. For your non-working credit card (sidfn34hb), I'm escalating this issue internally. Please provide an alternative contact number or email so we can reach out, or try calling our alternative support line at [Alternative Support Phone Number] if available.\n",
      "\n",
      "\n",
      "\n",
      "You : details\n",
      "\n",
      "\n",
      "📋 Your Stored Details:\n",
      "   name: shiv\n",
      "   credit_card_number: sidfn34hb\n",
      "   income: 30000\n",
      "   current_issue: complaint\n",
      "   urgency: high\n",
      "\n",
      "You : i have filled the form , but is not submitting,ticked id 44598\n",
      "\n",
      "Bot : I will transfer you to a human agent.\n",
      " Please wait...\n",
      "Bot : Hi Shiv, I see your form (ID 44598) is not submitting. I'm escalating this technical issue for you. Please try submitting it again in a few minutes, or contact our support line at [Support Phone Number] if the problem persists.\n",
      "\n",
      "\n",
      "\n",
      "You : details\n",
      "\n",
      "\n",
      "📋 Your Stored Details:\n",
      "   name: shiv\n",
      "   credit_card_number: sidfn34hb\n",
      "   income: 30000\n",
      "   current_issue: complaint\n",
      "   urgency: high\n",
      "   form_id: 44598\n",
      "\n",
      "You : quit\n",
      "\n",
      "Thank you for using Financial Support AI. Goodbye!\n"
     ]
    }
   ],
   "source": [
    "while True:\n",
    "    user_input=input(\"You: \").strip()\n",
    "    print(f\"You : {user_input}\\n\")\n",
    "    if user_input.lower() in ['quit','exit','bye']:\n",
    "        print(\"Thank you for using Financial Support AI. Goodbye!\")\n",
    "        break\n",
    "    \n",
    "    if user_input.lower() == 'details':\n",
    "        details = load_user_details()\n",
    "        if details:\n",
    "            print(\"\\n📋 Your Stored Details:\")\n",
    "            for key, value in details.items():\n",
    "                print(f\"   {key}: {value}\")\n",
    "            print()\n",
    "        else:\n",
    "            print(\"No details stored yet.\\n\")\n",
    "        continue\n",
    "    \n",
    "    if not user_input:\n",
    "        continue\n",
    "    \n",
    "    user_details = load_user_details()\n",
    "    extracted, new_info, requires_human = extract_user_details(user_input, user_details)\n",
    "\n",
    "    response=Chatbot.invoke(\n",
    "        {\"messages\":[HumanMessage(content=user_input)]},\n",
    "        config=CONFIG)\n",
    "    bot_message=response['messages'][-1].content\n",
    "\n",
    "    if requires_human:\n",
    "        print(\"Bot : I will transfer you to a human agent.\\n Please wait...\")\n",
    "    print(f\"Bot : {bot_message}\\n\\n\\n\")"
   ]
  },
  {
   "cell_type": "code",
   "execution_count": null,
   "id": "a27dce4a",
   "metadata": {},
   "outputs": [],
   "source": []
  }
 ],
 "metadata": {
  "kernelspec": {
   "display_name": "myenv",
   "language": "python",
   "name": "python3"
  },
  "language_info": {
   "codemirror_mode": {
    "name": "ipython",
    "version": 3
   },
   "file_extension": ".py",
   "mimetype": "text/x-python",
   "name": "python",
   "nbconvert_exporter": "python",
   "pygments_lexer": "ipython3",
   "version": "3.12.3"
  }
 },
 "nbformat": 4,
 "nbformat_minor": 5
}
